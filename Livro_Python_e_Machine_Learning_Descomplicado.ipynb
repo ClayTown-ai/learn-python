{
  "nbformat": 4,
  "nbformat_minor": 0,
  "metadata": {
    "colab": {
      "provenance": [],
      "collapsed_sections": [
        "ApNTIbk41r1b",
        "qd85N33g5dko",
        "_HINRKM05i25",
        "IElk8SRX-gsS",
        "mrFzUrypAVgM",
        "jSZLkNleE-Tq",
        "L4jHlsMTH2MG",
        "X74xpLMjTYJB",
        "i562UTBuLR0Q",
        "8nw2uCQgUNiy",
        "GkG0n4HvXP54",
        "fpPAu9uvXm1T",
        "RpdH8PbnXlSz",
        "CNueSl38g6_v",
        "xTFytSzgh3vp",
        "9FcSNAhJiCcT",
        "kpztEoKtiEmU",
        "ZWDGwrM_uCKT",
        "SnWT15PzuvmS",
        "Yuhmoh-Zu8yM",
        "jtGmjOZdu-c0",
        "kROgY7KuvMtV",
        "VFq_C1zcvAeM",
        "rl44GEDivE3k",
        "4UNB-t5D9tdw"
      ],
      "authorship_tag": "ABX9TyOm+VgsoYltVDKsfQLE/n68",
      "include_colab_link": true
    },
    "kernelspec": {
      "name": "python3",
      "display_name": "Python 3"
    },
    "language_info": {
      "name": "python"
    }
  },
  "cells": [
    {
      "cell_type": "markdown",
      "metadata": {
        "id": "view-in-github",
        "colab_type": "text"
      },
      "source": [
        "<a href=\"https://colab.research.google.com/github/ClayTown-ai/learn-python/blob/main/Livro_Python_e_Machine_Learning_Descomplicado.ipynb\" target=\"_parent\"><img src=\"https://colab.research.google.com/assets/colab-badge.svg\" alt=\"Open In Colab\"/></a>"
      ]
    },
    {
      "cell_type": "markdown",
      "source": [
        "#PARTE I INTRODUÇÃO A PYTHON"
      ],
      "metadata": {
        "id": "otUndRkP1jvS"
      }
    },
    {
      "cell_type": "markdown",
      "source": [
        "##PYTHON PARA INICIANTES"
      ],
      "metadata": {
        "id": "ApNTIbk41r1b"
      }
    },
    {
      "cell_type": "markdown",
      "source": [
        "Python é uma linguagem:\n",
        "*   de alto nível: significa que a linguagem é próxima a nossa\n",
        "*   dinamicamente tipada: significa que os dados já são inferidos automaticamente, não é necessario definir o tipo de dado da variavel ao cria-la.\n",
        "*   case sensetive: diferencia maiusculas de minusculas, ou seja, nome é diferente de Nome, que é diferente de NOME.\n",
        "\n",
        "\n",
        "É bem integrada com bibliotecas de C, C++\n",
        "\n",
        "No conceito de ML tem concorrencia com R, C e C++, o que define é a forma que queremos que o modelo funcione.\n"
      ],
      "metadata": {
        "id": "15IyS3ut1-xe"
      }
    },
    {
      "cell_type": "markdown",
      "source": [
        "Caracteres para string:\n",
        "\n",
        "\\n - new line, nova linha\n",
        "\\t - tab, novo espaço tab\n",
        "\\r - return, equivale a pressionar enter\n",
        "\n",
        "barra invertida é usada para escapar um caractere da string. Exemplo\n",
        "'vou escapar uma aspa \\' sem fechar a string'\n",
        "\n",
        "\n"
      ],
      "metadata": {
        "id": "7gok9nRT4AM5"
      }
    },
    {
      "cell_type": "markdown",
      "source": [
        "###PRINT"
      ],
      "metadata": {
        "id": "qd85N33g5dko"
      }
    },
    {
      "cell_type": "code",
      "execution_count": null,
      "metadata": {
        "colab": {
          "base_uri": "https://localhost:8080/"
        },
        "id": "RFBHGFV51Scs",
        "outputId": "1f936681-5df8-4e02-eac1-65c63ecc853f"
      },
      "outputs": [
        {
          "output_type": "stream",
          "name": "stdout",
          "text": [
            "Hello World\n",
            "Hello-World\n",
            "Hello#"
          ]
        }
      ],
      "source": [
        "'''é uma função feita para imprimir algo no terminal para o usuario.\n",
        "Ex. '''\n",
        "print('Hello World')\n",
        "\n",
        "'''usar sep='' define o que vai separar os elementos dentro desta função.\n",
        "Ex.'''\n",
        "print('Hello', 'World', sep='-')\n",
        "\n",
        "'''usar end='' define o que vai ser impresso no final da função.\n",
        "Ex.'''\n",
        "print('Hello', end='#')"
      ]
    },
    {
      "cell_type": "markdown",
      "source": [
        "###VARIAVEIS E TIPOS DE DADOS"
      ],
      "metadata": {
        "id": "_HINRKM05i25"
      }
    },
    {
      "cell_type": "markdown",
      "source": [
        "Variavel é o local onde armazenamos os dados.\n",
        "Ex. x=1\n",
        "\n",
        "Sempre é feita com a seguinte sintaxe:\n",
        "NomeDaVariavel = ValorDaVariavel\n",
        "\n",
        "Neste contexto o sinal de igual '=' representa um operador de atribuição de valor.\n"
      ],
      "metadata": {
        "id": "kiFPgACV5yiD"
      }
    },
    {
      "cell_type": "code",
      "source": [
        "#DADOS PRIMITIVOS DO PYTHON\n",
        "\n",
        "string = \"Texto sempre entre aspas simples \\'\\' ou duplas \\\"\\\"\" #Classe <str>\n",
        "inteiro = 1 #numero inteiro. Classe <int>\n",
        "flutuante = 1.0 #numero deciaml. Classe <float>\n",
        "booleano = True #dado booleano (falso ou verdadeiro). Classe <bool>\n",
        "nulo = None #Dado nulo. Classe <NoneType>"
      ],
      "metadata": {
        "id": "1PNpJ3UC5xmT"
      },
      "execution_count": null,
      "outputs": []
    },
    {
      "cell_type": "markdown",
      "source": [
        "Interpolar valores de string:\n",
        "\n",
        "EXISTEM 2 MANEIRAS DE FAZER ISSO.\n",
        "\n",
        "**PRIMEIRO MÉTODO %**\n",
        "\n",
        "é possivel inserir dados que não estão por padrão na string usando '%' seguida de uma das flags deste método.\n",
        "\n",
        "*   % i — inteiro com sinal (também pode ser usado d no lugar de i).\n",
        "\n",
        "*   % f — número de ponto flutuante (decimal).\n",
        "\n",
        "*   % o — valor na base octal — converte números para octal.\n",
        "\n",
        "*   % x — valor na base hexadecimal — converte números para hexadecimal.\n",
        "\n",
        "*   % s — string — imprime um texto literal na posição.\n",
        "\n",
        "*   %% — exibe um sinal de porcentagem na posição. Muito útil para exibir percentuais em resultados.\n",
        "\n",
        "*   %.(inserir um numero) imprime um número decimal com quantidade de casas decimais fornecidas.\n",
        "\n",
        "\n",
        "**SEGUNDO MÉTODO f\"\"**\n",
        "\n",
        "e a segunda forma de fazer isso é com o f'' (format string).\n",
        "Neste caso nós escrevemos normalmente dentro das aspas como se fosse uma string comum, e quando quisemos interpolar usamos o operador {} e dentro colocamos o que queremos.\n",
        "podendo também ter algumas flags:\n",
        "\n",
        "\n",
        "\n",
        "*   para converter um valor para octal, ele deve ser declarado como: {valor:o}.\n",
        "\n",
        "*   da mesma forma, para converter um valor para hexadecimal, a sintaxe usada é: {valor:x}.\n",
        "\n",
        "*   para formatar a quantidade de casas decimais usamos {valor:.2f} o numero ira definir quantas casas deciamis irão ter.\n"
      ],
      "metadata": {
        "id": "BQwsS8tB6w9M"
      }
    },
    {
      "cell_type": "code",
      "source": [
        "#MÉTODO %\n",
        "print(\"este é um exemplo %i\" %4)\n",
        "print(\"este é um exemplo %f\" %1.5)\n",
        "print(\"este é um exemplo %s\" %'Olá')\n",
        "print(\"este é um exemplo %.2f\" %4.1234)\n",
        "\n",
        "#MÉTODO f\"\"\n",
        "print(f\"este é um exemplo {4}\")\n",
        "print(f\"este é um exemplo {1.5}\")\n",
        "print(f\"este é um exemplo {'Olá'}\")\n",
        "print(f\"este é um exemplo {4.1234:.2f}\")\n"
      ],
      "metadata": {
        "colab": {
          "base_uri": "https://localhost:8080/"
        },
        "id": "DyU31w1Z755H",
        "outputId": "e6107580-3711-431d-82da-a308f9471a16"
      },
      "execution_count": null,
      "outputs": [
        {
          "output_type": "stream",
          "name": "stdout",
          "text": [
            "este é um exemplo 4\n",
            "este é um exemplo 1.500000\n",
            "este é um exemplo Olá\n",
            "este é um exemplo 4.12\n",
            "este é um exemplo 4\n",
            "este é um exemplo 1.5\n",
            "este é um exemplo Olá\n",
            "este é um exemplo 4.12\n"
          ]
        }
      ]
    },
    {
      "cell_type": "markdown",
      "source": [
        "###ESCOPO DE VARIAVEIS"
      ],
      "metadata": {
        "id": "IElk8SRX-gsS"
      }
    },
    {
      "cell_type": "markdown",
      "source": [
        "Em python temos 2 tipos de escopo de variaveis:\n",
        "\n",
        "\n",
        "\n",
        "*   Variavel global: é uma variavel que é declarada e está disponivel para todo o código, ou seja, não exitem limitações de onde esta variavel pode ser usada. para definir uma função global ou ela deve estar fora de qualquer bloco isolado ou deve estar acompanhada da função 'global'\n",
        "\n",
        "*   Variavel local: nornalmente são as variaveis que ficam dentro de um escopo específico, como dentro de funções, módulos e outros blocos isolados.\n",
        "\n",
        "\n"
      ],
      "metadata": {
        "id": "IeffTpkA-m37"
      }
    },
    {
      "cell_type": "markdown",
      "source": [
        "###OPERADORES"
      ],
      "metadata": {
        "id": "mrFzUrypAVgM"
      }
    },
    {
      "cell_type": "markdown",
      "source": [
        "Existem diversos tipos de operadores em python:\n",
        "```\n",
        "+: Adição, soma numeros ou concatena strings. 1+1 ou 'clay'+'ton'\n",
        "\n",
        "-: Subtração, subtrai numeros. 1-1\n",
        "\n",
        "*: Multiplição, multiplica numeros ou exibe a quantidade de vezes a string. 1*1 ou 'clay'*4\n",
        "\n",
        "/: Divisão real, divide os numeros completamente. 2/1\n",
        "\n",
        "%: Módulo, mostra o resto da divisão. 5%3\n",
        "\n",
        "**: Potenciação, eleva um numero a outro. 4**2\n",
        "\n",
        "//: Divisão inteira, divide os numeros retornando um numero inteiro.\n",
        "\n",
        "podemos usar esses operadores para somar e atribuir o novo valor a uma variavel:\n",
        "\n",
        "+= : mesma coisa que x = x + y\n",
        "\n",
        "-= : mesma coisa que x = x - y\n",
        "\n",
        "e assim por diante\n",
        "\n",
        "```\n",
        "\n"
      ],
      "metadata": {
        "id": "-9CRQqXbAXuV"
      }
    },
    {
      "cell_type": "code",
      "source": [
        "print(1+1)\n",
        "print('clay'+'ton')\n",
        "print(1-1)\n",
        "print(1*1)\n",
        "print('clay'*4)\n",
        "print(2/1)\n",
        "print(5%3)\n",
        "print(4**2)\n",
        "print(5//2)"
      ],
      "metadata": {
        "colab": {
          "base_uri": "https://localhost:8080/"
        },
        "id": "rTzXJyJoCblh",
        "outputId": "05d4d154-3491-4770-a6a0-54cf1e7c5f12"
      },
      "execution_count": null,
      "outputs": [
        {
          "output_type": "stream",
          "name": "stdout",
          "text": [
            "2\n",
            "clayton\n",
            "0\n",
            "1\n",
            "clayclayclayclay\n",
            "2.0\n",
            "2\n",
            "16\n",
            "2\n"
          ]
        }
      ]
    },
    {
      "cell_type": "markdown",
      "source": [
        "Procedencia dos operadores:\n",
        "\n",
        "Seguem a seguinte ordem para fazer as operações:\n",
        "\n",
        "1° - os parenteses, de dentro para fora\n",
        "\n",
        "2° - potencia (da direta para a esquerda <-)\n",
        "\n",
        "3° - multiplicação e divisão (da esquerda para a diretita ->)\n",
        "\n",
        "4° - adição e subtração\n",
        "\n"
      ],
      "metadata": {
        "id": "LLD40PqeC1VU"
      }
    },
    {
      "cell_type": "markdown",
      "source": [
        "OPERADORES BOOLEANOS:\n",
        "```\n",
        "> MAIOR: compara se um numero é maior que o outro 3>2\n",
        "< MENOR: compara se um numero é menor que o outro 2<3\n",
        "\n",
        "== IGUAL: compara se um é igual ao outro 2==2\n",
        "!= DIFERENTE: compara se um é diferente do outro 3!=2\n",
        "\n",
        ">= MAIOR ou IGUAL: compara se um é maior ou igual a outro 3>=2\n",
        "<= MENOR ou IGUAL: compara se um é menor ou igual outro 1<=4\n",
        "\n",
        "o resultado dessas comparações sempre vai resultar um valor booleano (TRUE ou FALSE)\n",
        "```\n",
        "\n"
      ],
      "metadata": {
        "id": "h_6txm8LEMBC"
      }
    },
    {
      "cell_type": "markdown",
      "source": [
        "OPERADORES LÓGICOS:\n",
        "```\n",
        "and ou & :verifica se os os dois argumentos são verdadeiros. caso os dois sejam retorna true.\n",
        "or ou | : retorna True se pelo menos um dos argumentos forem true.\n",
        "not ou ~ : operador de negação, ou seja nega o que vem após. not true = false\n",
        "in verifica a existencia de um item em algo\n",
        "```"
      ],
      "metadata": {
        "id": "eG9--fhvEVk7"
      }
    },
    {
      "cell_type": "markdown",
      "source": [
        "###MÓDULOS"
      ],
      "metadata": {
        "id": "jSZLkNleE-Tq"
      }
    },
    {
      "cell_type": "markdown",
      "source": [
        "Em python existe uma infinidade de blibliotecas, ou melhor, módulos que podemos importar em nosso código.\n",
        "\n",
        "O python já vem com um pacote de bibliotecas padrão e esses podemos usar somente chamando os nomes das suas funções.\n",
        "\n",
        "para importar uma nova biblioteca vamos usar a sintaxe:\n",
        "\n",
        "import *nome da biblioeca* as *definir um apelido para a bibioteca*\n",
        "\n",
        "Ex.\n",
        "```\n",
        "import pandas as pd\n",
        "```\n",
        "\n",
        "e para chamar as funções desta biblioteca, vamos usar a seguinte sintaxe:\n",
        "\n",
        "pd.*nome da função*()\n",
        "\n",
        "Ex.\n",
        "\n",
        "```\n",
        "pd.read_csv('arquivo.csv')\n",
        "```"
      ],
      "metadata": {
        "id": "6sjreOekFBi0"
      }
    },
    {
      "cell_type": "code",
      "source": [
        "import pandas as pd\n",
        "\n",
        "pd.read_csv('arquivo.csv')\n",
        "\n",
        "#neste caso o código ira dar erro pois não temos este arquivo feito."
      ],
      "metadata": {
        "id": "WBUxDllhHkYE"
      },
      "execution_count": null,
      "outputs": []
    },
    {
      "cell_type": "markdown",
      "source": [
        "##COLEÇÕES"
      ],
      "metadata": {
        "id": "L4jHlsMTH2MG"
      }
    },
    {
      "cell_type": "markdown",
      "source": [
        "python tem 4 principais formas de representar coleções de dados:\n",
        "\n",
        "\n",
        "\n",
        "*   Listas:\n",
        "\n",
        "*   Tuplas:\n",
        "\n",
        "*   Coleções:\n",
        "\n",
        "*   Dicionarios\n",
        "\n"
      ],
      "metadata": {
        "id": "pUqss5l0H_Xw"
      }
    },
    {
      "cell_type": "markdown",
      "source": [
        "###LISTA"
      ],
      "metadata": {
        "id": "X74xpLMjTYJB"
      }
    },
    {
      "cell_type": "markdown",
      "source": [
        "SINTAXE:\n",
        "\n",
        "lista=[1, 2, 3]\n",
        "\n",
        "o modelo mais flexivel, consegue armazenar grandes volumes de dados, de todos os tipos, podendo inclusive ter listas dentro da lista. ela é ordenada, ou seja, segue uma sequencia numerica de indices para localizar a posiçao de cada elemento (como um vetor) este indice sempre começa em 0."
      ],
      "metadata": {
        "id": "HFRFRIDULKO_"
      }
    },
    {
      "cell_type": "code",
      "source": [
        "#LISTAS\n",
        "lista_umadimensão = [1, 2, 3]\n",
        "#indices:0, 1, 2\n",
        "print(lista_umadimensão)\n",
        "print(lista_umadimensão[0])\n",
        "\n",
        "lista_bidimensional = [[1, 2, 3], [4, 5, 6]]\n",
        "print(lista_bidimensional)\n",
        "print(lista_bidimensional[0])\n",
        "print(lista_bidimensional[1][2]) #ira primeiro buscar qual o indice 1 na primeira lista, e em seguida buscar o indice 2 do item selecionado."
      ],
      "metadata": {
        "colab": {
          "base_uri": "https://localhost:8080/"
        },
        "id": "bPG_b-QBJ35y",
        "outputId": "3f600604-5157-4ba8-b32b-6bc71d9dd849"
      },
      "execution_count": null,
      "outputs": [
        {
          "output_type": "stream",
          "name": "stdout",
          "text": [
            "[1, 2, 3]\n",
            "1\n",
            "[[1, 2, 3], [4, 5, 6]]\n",
            "[1, 2, 3]\n",
            "6\n"
          ]
        }
      ]
    },
    {
      "cell_type": "markdown",
      "source": [
        "OPERAÇÕES COM LISTAS.\n",
        "\n",
        "Depois de uma lista já definida é possivel tratar seus elementos, ou seja, adicionar novos, remover, editar, substituir, etc.\n",
        "\n",
        "**ADICIONAR ITENS**\n",
        "\n",
        "para adicionarmos itens a lista, usamos o método .append()\n",
        "vamos usar a segiunte sintaxe:\n",
        "\n",
        "lista.append(#item que vai ser adicionado#)\n",
        "\n",
        "\n",
        "\n",
        "**ALTERAR ITENS**\n",
        "\n",
        "para adiconar itens, devemos especificar qual elemento vamos alterar a partir de seu indice, usando a sintaxe lista[#numero do indice#]=#novo dado da lista\n",
        "\n",
        "lista[2]=5\n",
        "\n",
        "**VERIFICAR SE UM ITEM ESTA NA LISTA**\n",
        "\n",
        "podemos verificar se um item está dentro de uma lista com a seguinte sintaxe: #nome do item# in lista\n",
        "\n",
        "if 1 in lista:   \n",
        "_bloco de código_\n",
        "\n",
        "**REMOVER ITENS DE UMA LISTA**\n",
        "\n",
        "existem 3 formas de remover um item de uma lista.\n",
        "\n",
        "método .remove()\n",
        "este método remove completamente um item de dentro de uma lista, o item é identificado por seu valor\n",
        "\n",
        "sintaxe:\n",
        "\n",
        "lista.remove(item que você quer remover)\n",
        "\n",
        "método .pop()\n",
        "este método extrai um valor de uma lista e o armazena temporariamente.\n",
        "\n",
        "sintaxe:\n",
        "\n",
        "item = lista.pop(item que você quer extrair)\n",
        "\n",
        "\n",
        "módulo del\n",
        "este módulo é usado para deletar um item de uma lista e usa como identificador o indice e caso não seja especificado o indice ele vai deletar a lista toda.\n",
        "\n",
        "sintaxe:\n",
        "\n",
        "del lista[indice do item que quer deletar]\n",
        "\n",
        "\n",
        "**CONTAR QUANTIDADE DE ITENS**\n",
        "\n",
        "para contar a quantidade de itens de uma lista usamos a função len() com a seguinte sintaxe:\n",
        "\n",
        "tamanho = len(lista)\n",
        "\n",
        "**ESTENDENDO UMA LISTA**\n",
        "\n",
        "Esse método serve para exender uma lista unindo ela a outra lista ou outros elementos temporariamente, feita com o método .extend()\n",
        "\n",
        "sintaxe:\n",
        "\n",
        "lista1.extend(lista2)\n",
        "\n",
        "\n",
        "**ADICIONAR ELEMENTOS NO MEIO**\n",
        "\n",
        "para colocar elemntos no meio da lista ou numa posição especifica, usamos o método .insert()\n",
        "\n",
        "sintaxe:\n",
        "\n",
        "lista.insert(_indice que sera inserido_, #valor que sera inserido#)\n",
        "\n",
        "**DIVIDINDO LISTAS**\n",
        "\n",
        "Para dividir as listas, ao chama-las vamos usar o : junto ao indice para mostrar onde vamos dividir, seguinto a sintaxe\n",
        "\n",
        "lista[inicio : fim : salto]\n",
        "\n",
        "se qualquer um for omitido ira ser presumido como 0\n",
        "\n",
        "caso o valor seja negativo ira buscar a lista de trás para frente, ou seja, o ultimo elemento sera -1, o puniltomo sera -2 e assim por diante.\n",
        "\n",
        "\n",
        "pedaço = lista[:4] #vai mostrar os ultimos 4 elementos\n",
        "começo = lista[4:] #vai mostrar os 4 primeiros\n",
        "pular = lista[::2] #vai correr os itens da lista pulando de 2 em 2"
      ],
      "metadata": {
        "id": "auZflBPRLbTB"
      }
    },
    {
      "cell_type": "code",
      "source": [
        "lista = [1,2,3,4,9,7,8,9]\n",
        "print(lista)\n",
        "#ADICIONAR\n",
        "lista.append(10)\n",
        "print(lista)\n",
        "#ALTERAR\n",
        "lista[2]=5\n",
        "print(lista)\n",
        "#VERIFICAR\n",
        "if 3 in lista:\n",
        "  print('sim')\n",
        "#REMOVER\n",
        "lista.remove(5)\n",
        "print(lista)\n",
        "lista.pop(0)\n",
        "print(lista)\n",
        "del lista[0]\n",
        "print(lista)\n",
        "\n",
        "#CONTAR\n",
        "print(len(lista))\n",
        "\n",
        "#EXTENDENDO\n",
        "lista2 = [11,12,13]\n",
        "lista.extend(lista2)\n",
        "print(lista)\n",
        "#ADICIONAR NO MEIO\n",
        "lista.insert(4,5)\n",
        "print(lista)\n",
        "#DIVIDINDO\n",
        "lista_começo = lista[4:]\n",
        "lista_final = lista[:4]\n",
        "lista_pular = lista[::2]\n",
        "print(lista_começo)\n",
        "print(lista_final)\n",
        "print(lista_pular)"
      ],
      "metadata": {
        "id": "fK6bl565NWg1"
      },
      "execution_count": null,
      "outputs": []
    },
    {
      "cell_type": "markdown",
      "source": [
        "###TUPLAS"
      ],
      "metadata": {
        "id": "i562UTBuLR0Q"
      }
    },
    {
      "cell_type": "markdown",
      "source": [
        "Tuplas são parecidas com listas, porém não podem seus elementos não podem ser alterados.\n",
        "\n",
        "sintaxe:\n",
        "\n",
        "tupla = (1,2,3)\n",
        "\n",
        "nas tuplas os elementos também são ordenados por indices, ou seja, ela é ordenada."
      ],
      "metadata": {
        "id": "3LqqxfGLTbQq"
      }
    },
    {
      "cell_type": "code",
      "source": [
        "tupla = (1,2,3)\n",
        "print(tupla)\n",
        "print(tupla[0])"
      ],
      "metadata": {
        "colab": {
          "base_uri": "https://localhost:8080/"
        },
        "id": "VUUrNI5rUG25",
        "outputId": "747156f1-36a4-4c32-e633-7c4460f8f1e2"
      },
      "execution_count": null,
      "outputs": [
        {
          "output_type": "stream",
          "name": "stdout",
          "text": [
            "(1, 2, 3)\n",
            "1\n"
          ]
        }
      ]
    },
    {
      "cell_type": "markdown",
      "source": [
        "###CONJUNTOS"
      ],
      "metadata": {
        "id": "8nw2uCQgUNiy"
      }
    },
    {
      "cell_type": "markdown",
      "source": [
        "assim como na matematica servem para agrupar conjuntos de dados semelhantes sem repetição ou ordenação (não existe indice), os dados do conjunto não podem ser alterados mas podem ser feitas algumas operações com eles.\n",
        "\n",
        "sintaxe:\n",
        "\n",
        "conjunto = {1,2,3}\n",
        "\n",
        "caso o conjunto seja criado vazio, deve-se usar a seguinte sintaxe:\n",
        "\n",
        "conjunto = set()\n",
        "\n",
        "**OPERAÇÕES QUE PODEM SER FEITAS COM CONJUNTOS**\n",
        "\n",
        "\n",
        "\n",
        "A | B ou A.union(B)\n",
        "Retorna o conjunto união de A com B, sem alterar seus valores.\n",
        "\n",
        "A |= B ou A.update(B)\n",
        "Realiza a união de A com B e atribui o resultado a A (altera o conteúdo de A).\n",
        "\n",
        "A & B ou A.intersection(B)\n",
        "Retorna o conjunto interseção de A com B, sem alterar seus valores.\n",
        "\n",
        "A &= B ou A.intersection_update(B)\n",
        "Realiza a interseção de A com B e atribui o resultado a A (altera o conteúdo de A).\n",
        "\n",
        "A - B ou A.difference(B)\n",
        "Retorna a diferença entre A e B (elementos que estão contidos em A, mas, não em B).\n",
        "\n",
        "A -= B ou A.difference_update(B)\n",
        "Retorna a diferença entre A e B (elementos que estão contidos em A, mas não em B) e armazena o resultado em A; na prática, remove de A todos os elementos que também fizerem parte de B.\n",
        "\n",
        "A ^ B ou A.symmetric_difference(B)\n",
        "Retorna a diferença simétrica entre A e B (elementos contidos em A ou em B, mas não em ambos simultaneamente).\n",
        "\n",
        "A ^= B ou A.symmetric_difference_update(B)\n",
        "Armazena a diferença simétrica entre A e B em A.\n",
        "\n",
        "A <= B ou A.issubset(B)\n",
        "Retorna True se A for subconjunto de B ou False, caso contrário. Ou seja, corresponde a A está contido em B.\n",
        "\n",
        "A >= B ou A.issuperset(B)\n",
        "Retorna True se A for superconjunto de B ou False, caso contrário. Ou seja, corresponde a A contém B.\n",
        "\n",
        "A < B\n",
        "Equivalente a A <= B e A != B, ou seja, corresponde a A está contido propriamente em B.\n",
        "\n",
        "A>B\n",
        "Equivalente a A >= B e A != B, ou seja, corresponde a A contém propriamente B."
      ],
      "metadata": {
        "id": "KLpDcpEZVNDL"
      }
    },
    {
      "cell_type": "code",
      "source": [
        "A = {1, 2, 3}\n",
        "B = {3, 4, 5}\n",
        "\n",
        "# Usando o operador |\n",
        "C = A | B\n",
        "print(C)  # Saída: {1, 2, 3, 4, 5}\n",
        "\n",
        "# Usando o método union\n",
        "D = A.union(B)\n",
        "print(D)  # Saída: {1, 2, 3, 4, 5}\n",
        "\n",
        "A = {1, 2, 3}\n",
        "B = {3, 4, 5}\n",
        "\n",
        "# Usando o operador |=\n",
        "A |= B\n",
        "print(A)  # Saída: {1, 2, 3, 4, 5}\n",
        "\n",
        "# Usando o método update\n",
        "A = {1, 2, 3}  # Recria A para exemplo\n",
        "A.update(B)\n",
        "print(A)  # Saída: {1, 2, 3, 4, 5}\n",
        "\n",
        "\n",
        "\n",
        "A = {1, 2, 3}\n",
        "B = {3, 4, 5}\n",
        "\n",
        "# Usando o operador |=\n",
        "A |= B\n",
        "print(A)  # Saída: {1, 2, 3, 4, 5}\n",
        "\n",
        "# Usando o método update\n",
        "A = {1, 2, 3}  # Recria A para exemplo\n",
        "A.update(B)\n",
        "print(A)  # Saída: {1, 2, 3, 4, 5}\n",
        "\n",
        "\n",
        "\n",
        "A = {1, 2, 3}\n",
        "B = {3, 4, 5}\n",
        "\n",
        "# Usando o operador &\n",
        "C = A & B\n",
        "print(C)  # Saída: {3}\n",
        "\n",
        "# Usando o método intersection\n",
        "D = A.intersection(B)\n",
        "print(D)  # Saída: {3}\n",
        "\n",
        "A = {1, 2, 3}\n",
        "B = {3, 4, 5}\n",
        "\n",
        "# Usando o operador &=\n",
        "A &= B\n",
        "print(A)  # Saída: {3}\n",
        "\n",
        "# Usando o método intersection_update\n",
        "A = {1, 2, 3}  # Recria A para exemplo\n",
        "A.intersection_update(B)\n",
        "print(A)  # Saída: {3}\n",
        "\n",
        "A = {1, 2, 3}\n",
        "B = {3, 4, 5}\n",
        "\n",
        "# Usando o operador &=\n",
        "A &= B\n",
        "print(A)  # Saída: {3}\n",
        "\n",
        "# Usando o método intersection_update\n",
        "A = {1, 2, 3}  # Recria A para exemplo\n",
        "A.intersection_update(B)\n",
        "print(A)  # Saída: {3}\n",
        "\n",
        "\n",
        "\n",
        "A = {1, 2, 3}\n",
        "B = {3, 4, 5}\n",
        "\n",
        "# Usando o operador -\n",
        "C = A - B\n",
        "print(C)  # Saída: {1, 2}\n",
        "\n",
        "# Usando o método difference\n",
        "D = A.difference(B)\n",
        "print(D)  # Saída: {1, 2}\n",
        "\n",
        "A = {1, 2, 3}\n",
        "B = {3, 4, 5}\n",
        "\n",
        "# Usando o operador -=\n",
        "A -= B\n",
        "print(A)  # Saída: {1, 2}\n",
        "\n",
        "# Usando o método difference_update\n",
        "A = {1, 2, 3}  # Recria A para exemplo\n",
        "A.difference_update(B)\n",
        "print(A)  # Saída: {1, 2}\n",
        "\n",
        "\n",
        "\n",
        "A = {1, 2, 3}\n",
        "B = {3, 4, 5}\n",
        "\n",
        "# Usando o operador ^\n",
        "C = A ^ B\n",
        "print(C)  # Saída: {1, 2, 4, 5}\n",
        "\n",
        "# Usando o método symmetric_difference\n",
        "D = A.symmetric_difference(B)\n",
        "print(D)  # Saída: {1, 2, 4, 5}\n",
        "\n",
        "A = {1, 2, 3}\n",
        "B = {3, 4, 5}\n",
        "\n",
        "# Usando o operador ^=\n",
        "A ^= B\n",
        "print(A)  # Saída: {1, 2, 4, 5}\n",
        "\n",
        "# Usando o método symmetric_difference_update\n",
        "A = {1, 2, 3}  # Recria A para exemplo\n",
        "A.symmetric_difference_update(B)\n",
        "print(A)  # Saída: {1, 2, 4, 5}\n",
        "\n",
        "\n",
        "\n",
        "A = {1, 2}\n",
        "B = {1, 2, 3, 4}\n",
        "\n",
        "# Usando o operador <=\n",
        "print(A <= B)  # Saída: True\n",
        "\n",
        "# Usando o método issubset\n",
        "print(A.issubset(B))  # Saída: True\n",
        "\n",
        "A = {1, 2, 3, 4}\n",
        "B = {1, 2}\n",
        "\n",
        "# Usando o operador >=\n",
        "print(A >= B)  # Saída: True\n",
        "\n",
        "# Usando o método issuperset\n",
        "print(A.issuperset(B))  # Saída: True\n",
        "\n",
        "\n",
        "\n",
        "A = {1, 2}\n",
        "B = {1, 2, 3}\n",
        "\n",
        "# Usando o operador <\n",
        "print(A < B)  # Saída: True\n",
        "\n",
        "A = {1, 2, 3}\n",
        "B = {1, 2}\n",
        "\n",
        "# Usando o operador >\n",
        "print(A > B)  # Saída: True\n",
        "\n",
        "\n",
        "\n"
      ],
      "metadata": {
        "colab": {
          "base_uri": "https://localhost:8080/"
        },
        "id": "kMYoHoPjUy0f",
        "outputId": "bc5599ce-02d5-493b-dbfb-9d167716f544"
      },
      "execution_count": null,
      "outputs": [
        {
          "output_type": "stream",
          "name": "stdout",
          "text": [
            "{1, 'a', (1, 2, 3), 1.5}\n"
          ]
        }
      ]
    },
    {
      "cell_type": "markdown",
      "source": [
        "###DICIONARIOS"
      ],
      "metadata": {
        "id": "GkG0n4HvXP54"
      }
    },
    {
      "cell_type": "markdown",
      "source": [
        "dicionario é um tipo de dado do python que agrupa atributos por meio de indetificadores.\n",
        "comumente referidos como chave:valor\n",
        "\n",
        "sintaxe:\n",
        "\n",
        "dicionario = {chave:valor, chave1:valor1}\n",
        "\n",
        "\n",
        "**GET**\n",
        "método get() para retornar o valor default do dicionario, ou seja, para definir um valor padrão caso a chave não seja encontrada.\n",
        "\n",
        "sintaxe:\n",
        "\n",
        "teste = dicionario.get('item a ser pesquisado', 'saida caso não encontrado')\n",
        "\n",
        "\n",
        "**EXAMINANDO**\n",
        "\n",
        "para verificar as chaves podemos usar o método .keys() e valores com o método .values() e .items() para verificar todos os itens.\n",
        "\n",
        "sintaxe:\n",
        "\n",
        "chaves = dicionario.keys()\n",
        "valores = dicionario.values()\n",
        "itens = dicionario.items()\n",
        "\n",
        "**REMOVENDO**\n",
        "\n",
        "pode-se usar os mesmos métodos de listas, porém inves do indice e usamos a chave.\n"
      ],
      "metadata": {
        "id": "Apj88DTpX1xm"
      }
    },
    {
      "cell_type": "code",
      "source": [
        "dicionario = {'nome':'Clayton', 'idade':20, 'alutra':1.70}\n",
        "print(dicionario)\n",
        "print(f'Meu nome é {dicionario[\"nome\"]}')\n",
        "\n",
        "\n",
        "# Usando get() para acessar uma chave que não existe\n",
        "cidade = dicionario.get('cidade', 'Desconhecida')\n",
        "print(cidade)  # Saída: Desconhecida, pois não foi encontrada a chave 'cidade' no dicionario\n",
        "\n",
        "chaves = dicionario.keys()\n",
        "print(chaves)\n",
        "valores = dicionario.values()\n",
        "print(valores)\n",
        "itens = dicionario.items() #este é armazenado como um tupla.\n",
        "print(itens)\n",
        "\n",
        "dicionario.pop('nome')\n",
        "print(dicionario)\n",
        "del dicionario['idade']\n",
        "print(dicionario)"
      ],
      "metadata": {
        "colab": {
          "base_uri": "https://localhost:8080/"
        },
        "id": "8UxEUtIXXkcj",
        "outputId": "bd3239c8-0bb5-4ca9-e2f7-cef27dc8a404"
      },
      "execution_count": null,
      "outputs": [
        {
          "output_type": "stream",
          "name": "stdout",
          "text": [
            "{'nome': 'Clayton', 'idade': 20, 'alutra': 1.7}\n",
            "Meu nome é Clayton\n",
            "Desconhecida\n",
            "dict_keys(['nome', 'idade', 'alutra'])\n",
            "dict_values(['Clayton', 20, 1.7])\n"
          ]
        }
      ]
    },
    {
      "cell_type": "markdown",
      "source": [
        "###DEFALTDICT (rever pq não entendi nd)"
      ],
      "metadata": {
        "id": "fpPAu9uvXm1T"
      }
    },
    {
      "cell_type": "markdown",
      "source": [
        "É uma classe que se comporta como um dicionario, porém recebe um valor default para caso uma chave não existente seja consultada.\n",
        "Geralmente são usadas junto a uma função lambda para definir a saida padrão.\n",
        "\n",
        "Ela deve ser importada da biblioteca collections\n"
      ],
      "metadata": {
        "id": "ohfQyae6gAQv"
      }
    },
    {
      "cell_type": "code",
      "source": [
        "from collections import defaultdict\n",
        "\n",
        "genero = defaultdict(lambda: 'Desconhecido')\n",
        "genero['Clayton'] = 'Masculino'\n",
        "genero['Maria'] = 'Feminino'\n",
        "\n",
        "print(genero['Clayton'])  # Saída: Masculino\n",
        "print(genero['João'])  # Saída: Desconhecido"
      ],
      "metadata": {
        "id": "BaU3ip6nX02-"
      },
      "execution_count": null,
      "outputs": []
    },
    {
      "cell_type": "markdown",
      "source": [
        "###LAMBDA"
      ],
      "metadata": {
        "id": "RpdH8PbnXlSz"
      }
    },
    {
      "cell_type": "markdown",
      "source": [
        "É por padrão uma função anonima, que pode receber diversos parametros mas ter somente uma expressão.\n",
        "\n",
        "usando a sintaxe:\n",
        "\n",
        "lambda elemento1, elemento2,... : expressão\n",
        "\n",
        "\n"
      ],
      "metadata": {
        "id": "rMSMqPvGX59d"
      }
    },
    {
      "cell_type": "code",
      "source": [
        "soma = lambda x,y : x+y\n",
        "print(f'a soma de 1 e 2 é: {soma(1,2)}')"
      ],
      "metadata": {
        "colab": {
          "base_uri": "https://localhost:8080/"
        },
        "id": "fVffETKLXmg8",
        "outputId": "89955c41-66f7-4411-8216-9745e759eaf8"
      },
      "execution_count": null,
      "outputs": [
        {
          "output_type": "stream",
          "name": "stdout",
          "text": [
            "a soma de 1 e 2 é: 3\n"
          ]
        }
      ]
    },
    {
      "cell_type": "markdown",
      "source": [
        "###COUNTER"
      ],
      "metadata": {
        "id": "CNueSl38g6_v"
      }
    },
    {
      "cell_type": "markdown",
      "source": [
        "Uma classe muito útil em programas relacionados a estatística é Counter (contador).\n",
        "\n",
        "Ela permite implementar facilmente uma distribuição de frequência.\n",
        "Um Counter é uma coleção sem ordenação, na qual os itens são armazenados como chaves de um dicionário e os valores correspondem à frequência (quantidade de vezes em que aparecem na amostra) dos elementos da coleção.\n",
        "\n",
        "\n"
      ],
      "metadata": {
        "id": "djI-rKbNg_tQ"
      }
    },
    {
      "cell_type": "code",
      "source": [
        "from collections import Counter\n",
        "\n",
        "lista_numeros = [0, 1, 2, 2, 1, 2, 0]\n",
        "print(f'Lista de números: {lista_numeros}')\n",
        "\n",
        "c1 = Counter(lista_numeros)\n",
        "print(f'Distribuição dos números: {c1}')\n",
        "\n",
        "\n",
        "lista_strings = ['A', 'B', 'B', 'C', 'A', 'A', 'A', 'C']\n",
        "print(f'Lista de letras: {lista_strings}')\n",
        "\n",
        "c2 = Counter(lista_strings)\n",
        "print(f'Distribuição das letras: {c2}')\n",
        "\n",
        "\n",
        "\n",
        "\n",
        "\n",
        "\n",
        "\n",
        "\n"
      ],
      "metadata": {
        "colab": {
          "base_uri": "https://localhost:8080/"
        },
        "id": "_EEnRnTehNeq",
        "outputId": "fc901ab2-79b6-4c85-c3b7-3c365b855e2f"
      },
      "execution_count": null,
      "outputs": [
        {
          "output_type": "stream",
          "name": "stdout",
          "text": [
            "Lista de números: [0, 1, 2, 2, 1, 2, 0]\n",
            "Distribuição dos números: Counter({2: 3, 0: 2, 1: 2})\n",
            "Lista de letras: ['A', 'B', 'B', 'C', 'A', 'A', 'A', 'C']\n",
            "Distribuição das letras: Counter({'A': 4, 'B': 2, 'C': 2})\n"
          ]
        }
      ]
    },
    {
      "cell_type": "markdown",
      "source": [
        "##ESTRUTURAS CONDICIONAIS"
      ],
      "metadata": {
        "id": "xTFytSzgh3vp"
      }
    },
    {
      "cell_type": "markdown",
      "source": [
        "###IF"
      ],
      "metadata": {
        "id": "9FcSNAhJiCcT"
      }
    },
    {
      "cell_type": "markdown",
      "source": [
        "If é uma  grande ferramenta para desenvolver tomada de decisão no python, neste caso usaremos o if para determinar uma condição e caso esta condição seja verdadeira ele ira executar o código do brunch.\n",
        "\n",
        "Pode se usar diversos ifs, mas cada um vai ser testado individualmente e caso mais de um seja verdadeiro o python ira executar todos.\n",
        "\n",
        "if: Avalia a primeira condição. Se for verdadeira, o bloco correspondente é executado, e os blocos elif e else são ignorados.\n"
      ],
      "metadata": {
        "id": "Ur9oCWOgq1q1"
      }
    },
    {
      "cell_type": "code",
      "source": [
        "x = 10\n",
        "y = 20\n",
        "\n",
        "if x > 5:\n",
        "    print(\"x é maior que 5\")\n",
        "\n",
        "if y > 15:\n",
        "    print(\"y é maior que 15\")\n"
      ],
      "metadata": {
        "colab": {
          "base_uri": "https://localhost:8080/"
        },
        "id": "KURn2lyQr_Go",
        "outputId": "a9f69ed0-e7a1-40a6-b020-c743edf5d7a1"
      },
      "execution_count": null,
      "outputs": [
        {
          "output_type": "stream",
          "name": "stdout",
          "text": [
            "x é maior que 5\n",
            "y é maior que 15\n"
          ]
        }
      ]
    },
    {
      "cell_type": "markdown",
      "source": [
        "###ELIF"
      ],
      "metadata": {
        "id": "kpztEoKtiEmU"
      }
    },
    {
      "cell_type": "markdown",
      "source": [
        "O elif é usada para atribuir uma segunda (ou mais) condição, isso é, ele estara dentro de um bloco que só sera executado caso o if original não seja executado, gerando novas condições.\n",
        "\n",
        "O elif só é executado caso o a condição anterior não seja valida.\n",
        "\n",
        "elif: Avalia a condição se o if for falso. Pode haver múltiplos blocos elif, e apenas o primeiro que for verdadeiro será executado."
      ],
      "metadata": {
        "id": "paASCZFHsDbo"
      }
    },
    {
      "cell_type": "code",
      "source": [
        "x = 10\n",
        "y = 20\n",
        "\n",
        "if x > 15:\n",
        "    print(\"x é maior que 15\")\n",
        "\n",
        "elif y > 15:\n",
        "    print(\"y é maior que 15\")\n"
      ],
      "metadata": {
        "colab": {
          "base_uri": "https://localhost:8080/"
        },
        "id": "7j4lJgc3suvI",
        "outputId": "7b4c63c1-562f-4032-d97e-c0816aeee5f7"
      },
      "execution_count": null,
      "outputs": [
        {
          "output_type": "stream",
          "name": "stdout",
          "text": [
            "y é maior que 15\n"
          ]
        }
      ]
    },
    {
      "cell_type": "markdown",
      "source": [
        "###ELSE"
      ],
      "metadata": {
        "id": "lHYW4mthiGAM"
      }
    },
    {
      "cell_type": "markdown",
      "source": [
        "O else é o ultimo caso, caso nenhuma condição anterior seja verdadeira, o else é nossa ultima esperança.\n",
        "\n",
        "else: Executa o código se nenhuma das condições anteriores (if e elif) for verdadeira. É opcional e não pode ter uma condição própria.\n",
        "\n",
        "o else também pode ser colocado em loops."
      ],
      "metadata": {
        "id": "FbGms2D5thGX"
      }
    },
    {
      "cell_type": "code",
      "source": [
        "x = 10\n",
        "y = 20\n",
        "\n",
        "if x > 15:\n",
        "    print(\"x é maior que 15\")\n",
        "\n",
        "elif y < 15:\n",
        "    print(\"y é maior que 15\")\n",
        "\n",
        "else:\n",
        "    print(\"Nenhuma das condições é verdadeira\")\n"
      ],
      "metadata": {
        "colab": {
          "base_uri": "https://localhost:8080/"
        },
        "id": "1clPxHfHt5Lr",
        "outputId": "2c4426fe-a75e-4211-ff53-23bda0066c8b"
      },
      "execution_count": null,
      "outputs": [
        {
          "output_type": "stream",
          "name": "stdout",
          "text": [
            "Nenhuma das condições é verdadeira\n"
          ]
        }
      ]
    },
    {
      "cell_type": "markdown",
      "source": [
        "###IFs ENCADEADOS"
      ],
      "metadata": {
        "id": "ZWDGwrM_uCKT"
      }
    },
    {
      "cell_type": "markdown",
      "source": [
        "É possivel colocar um if dentro de outro if dentro de outro if, ou seja, aninhar ou encadear varios ifs.\n",
        "\n"
      ],
      "metadata": {
        "id": "PHGN04r_uEe8"
      }
    },
    {
      "cell_type": "code",
      "source": [
        "nota_final = 7\n",
        "presenca = 75  # Percentual de presença\n",
        "\n",
        "if nota_final >= 6:\n",
        "    if presenca >= 70:\n",
        "        print(\"Parabéns! Você foi aprovado.\")\n",
        "    else:\n",
        "        print(\"Você passou na nota, mas não atingiu o percentual de presença necessário.\")\n",
        "else:\n",
        "    print(\"Você não atingiu a nota mínima para aprovação.\")\n"
      ],
      "metadata": {
        "id": "uYVj9_ibuZ6q"
      },
      "execution_count": null,
      "outputs": []
    },
    {
      "cell_type": "markdown",
      "source": [
        "##ESTRUTURAS DE REPETIÇÃO"
      ],
      "metadata": {
        "id": "SnWT15PzuvmS"
      }
    },
    {
      "cell_type": "markdown",
      "source": [
        "###FOR"
      ],
      "metadata": {
        "id": "Yuhmoh-Zu8yM"
      }
    },
    {
      "cell_type": "markdown",
      "source": [
        "For é um loop, ou seja, ele percorre o código dentro dele e retorna para a verificar se a condição inicial ainda é verdadeira.\n",
        "\n",
        "Ele é bastante usado para iterar sobre coleções (como listas, tuplas etc.), strings e vários outros tipos de dados um número fixo de vezes, executando o código de suíte a cada passagem.\n",
        "\n",
        "dentro do for temos o recurso range() que significa alcance, ele é usado para definir uma lista de numeros onde podemos difinir seu inicio, fim e como essa sequencia acontece.\n",
        "\n",
        "\n",
        "```\n",
        "\n",
        "range(n)\n",
        "\n",
        "Retorna uma sequência de n inteiros, iniciados em zero, ou seja, os inteiros de 0 a n-1.\n",
        "\n",
        "range(a, b)\n",
        "\n",
        "Retorna os inteiros entre a(inclusive) e b(exclusive). Ex.: range(1,10) retornará os inteiros de 1 a 9.\n",
        "\n",
        "range(a, b, s)\n",
        "\n",
        "Retorna os inteiros entre a e b, saltando s a cada incremento. Ex.: range(1,10,2) retornará os inteiros de 1 a 9, saltando de 2 em 2, ou seja, os ímpares de 1 a 9.\n",
        "\n",
        "range(a, b, -s)\n",
        "\n",
        "Retorna os inteiros entre a e b, regressivamente, saltando -s a cada incremento. Nesse caso, necessariamente, a deve ser maior que b. Se essa condição não for satisfeita, nada será retornado. Ex.: range(10,-1,-1) retornará os inteiros de 10 a 0, em ordem descrescente.\n",
        "\n",
        "```"
      ],
      "metadata": {
        "id": "WLLeKIePxIuh"
      }
    },
    {
      "cell_type": "code",
      "source": [
        "for i in range(5):\n",
        "    print(i)\n"
      ],
      "metadata": {
        "colab": {
          "base_uri": "https://localhost:8080/"
        },
        "id": "9Nnb30z8x7Yo",
        "outputId": "e5a15576-117e-4d46-92a9-13c5bfde2fad"
      },
      "execution_count": null,
      "outputs": [
        {
          "output_type": "stream",
          "name": "stdout",
          "text": [
            "0\n",
            "1\n",
            "2\n",
            "3\n",
            "4\n"
          ]
        }
      ]
    },
    {
      "cell_type": "markdown",
      "source": [
        "###WHILE"
      ],
      "metadata": {
        "id": "jtGmjOZdu-c0"
      }
    },
    {
      "cell_type": "markdown",
      "source": [
        "While significa enquanto, o que quer dizir que ele vai criar um loop que enquanto aquela condição for verdadeira, vai continuar executando o código.\n",
        "\n",
        "Se a condição for falsa logo na primeira execução, o código dentro do loop não será executado.\n",
        "\n",
        "Caso um código esteja sendo repetido infinitamente, no terminal use crtl + C para interromper a execução.\n",
        "\n",
        "o while pode conter uma clausula else, para caso a condição não seja verdadeira."
      ],
      "metadata": {
        "id": "2BCaBid1vV0Q"
      }
    },
    {
      "cell_type": "code",
      "source": [
        "contador = 1\n",
        "\n",
        "while contador <= 5:\n",
        "    print(contador)\n",
        "    contador += 1\n"
      ],
      "metadata": {
        "colab": {
          "base_uri": "https://localhost:8080/"
        },
        "id": "sHTh4DhzwwVl",
        "outputId": "c5cfbc54-14a0-42f0-9ade-31703dab3e55"
      },
      "execution_count": null,
      "outputs": [
        {
          "output_type": "stream",
          "name": "stdout",
          "text": [
            "1\n",
            "2\n",
            "3\n",
            "4\n",
            "5\n"
          ]
        }
      ]
    },
    {
      "cell_type": "code",
      "source": [],
      "metadata": {
        "id": "lrlqLeary9Qa"
      },
      "execution_count": null,
      "outputs": []
    },
    {
      "cell_type": "markdown",
      "source": [
        "###LOOPS ANINHADOS"
      ],
      "metadata": {
        "id": "kROgY7KuvMtV"
      }
    },
    {
      "cell_type": "markdown",
      "source": [
        "Você pode colocar loops aninhados da mesma forma que o if.\n",
        "\n",
        "\n",
        "O laço for interno é executado completamente para cada iteração do laço externo.\n",
        "\n",
        "\n"
      ],
      "metadata": {
        "id": "UayFVkkky9sq"
      }
    },
    {
      "cell_type": "code",
      "source": [
        "camisetas = ['azul','vermelha','amarela']\n",
        "\n",
        "shorts = ['branco','preto']\n",
        "\n",
        "for x in range(3):\n",
        "  for y in range(2):\n",
        "    print(f'Voce pode combinar uma camiseta {camisetas[x]} com um short {shorts[y]}')\n",
        "\n",
        "    # neste caso Isso significa que, para cada valor de x, o laço interno executa seu bloco de código duas vezes (uma para cada valor de y).\n",
        "\n"
      ],
      "metadata": {
        "colab": {
          "base_uri": "https://localhost:8080/"
        },
        "id": "7lkGEluCyODk",
        "outputId": "c82b7d2e-e2ed-4763-f8e2-4706b65598f9"
      },
      "execution_count": null,
      "outputs": [
        {
          "output_type": "stream",
          "name": "stdout",
          "text": [
            "Voce pode combinar uma camiseta azul com um short branco\n",
            "Voce pode combinar uma camiseta azul com um short preto\n",
            "Voce pode combinar uma camiseta vermelha com um short branco\n",
            "Voce pode combinar uma camiseta vermelha com um short preto\n",
            "Voce pode combinar uma camiseta amarela com um short branco\n",
            "Voce pode combinar uma camiseta amarela com um short preto\n"
          ]
        }
      ]
    },
    {
      "cell_type": "markdown",
      "source": [
        "###BREAK E CONTINUE"
      ],
      "metadata": {
        "id": "VFq_C1zcvAeM"
      }
    },
    {
      "cell_type": "markdown",
      "source": [
        "**BREAK**\n",
        "O break é usado para interromper o loop imediatamente, quando o código executa uma instrução que contém break, ele ira para o loop e seguir o código.\n",
        "\n",
        "\n",
        "**CONTINUE**\n",
        "Já o continue ignora o valor atual e continua o loop para a proxima iteração"
      ],
      "metadata": {
        "id": "cBiWerZv0QM2"
      }
    },
    {
      "cell_type": "code",
      "source": [
        "numeros = [12, -3, 21, 8, 35, 7, 50, -1]\n",
        "\n",
        "for numero in numeros:\n",
        "    if numero < 0:\n",
        "        continue  # Ignora números negativos e continua para o próximo número\n",
        "\n",
        "    if numero > 10 and numero % 7 == 0:\n",
        "        print(f\"Primeiro número que é divisível por 7 e maior que 10: {numero}\")\n",
        "        break  # Encerra o loop após encontrar o primeiro número que atende às condições\n",
        "\n",
        "print(\"Loop terminado.\")\n"
      ],
      "metadata": {
        "colab": {
          "base_uri": "https://localhost:8080/"
        },
        "id": "8IV2Htow0kJp",
        "outputId": "80420517-8b40-45ab-9da8-514c40884e67"
      },
      "execution_count": null,
      "outputs": [
        {
          "output_type": "stream",
          "name": "stdout",
          "text": [
            "Primeiro número que é divisível por 7 e maior que 10: 21\n",
            "Loop terminado.\n"
          ]
        }
      ]
    },
    {
      "cell_type": "markdown",
      "source": [
        "###LIST COMPREHESIONS"
      ],
      "metadata": {
        "id": "rl44GEDivE3k"
      }
    },
    {
      "cell_type": "markdown",
      "source": [
        "Significa lista comprimida ou compressão de lista, é o conceito de criar uma expressão lógica para desenvolver uma lista, mesmo conceito do range() porém com diversas outras sequencias."
      ],
      "metadata": {
        "id": "tg_iXGibvKHF"
      }
    },
    {
      "cell_type": "code",
      "source": [
        "print('Entendendo List Comprehensions:')\n",
        "print('C1 = {x**3 | 0<=x<=3}')\n",
        "c1 = [x**3 for x in range(4)]\n",
        "print(c1, sep=' ')\n",
        "\n",
        "print('C2 = {x**3 | 0<=x<=20 e x é par}')\n",
        "c2 = [x * 2 for x in range(0, 11)]\n",
        "print(c2, sep=' ')\n",
        "print('C3 = {x | -20<=x<=40 e x é ímpar}')\n",
        "c3 = [x * 2 + 1 for x in range(-10, 19)]\n",
        "print(c3, sep=' ')\n",
        "\n",
        "'''Declaramos uma List Comprehension que itera sobre os números de 0 a 3 e os eleva ao cubo; o mesmo acontece nas linhas 6 e 9, que calculam, respectivamente, os valores das expressões C2 e C3, anteriormente definidas. O resultado é um objeto do tipo List, contendo os resultados'''"
      ],
      "metadata": {
        "colab": {
          "base_uri": "https://localhost:8080/"
        },
        "id": "YI9aTRHe7XZz",
        "outputId": "b9ea0fca-f037-4e9a-91ac-620546960bea"
      },
      "execution_count": null,
      "outputs": [
        {
          "output_type": "stream",
          "name": "stdout",
          "text": [
            "Entendendo List Comprehensions:\n",
            "C1 = {x**3 | 0<=x<=3}\n",
            "[0, 1, 8, 27]\n",
            "C2 = {x**3 | 0<=x<=20 e x é par}\n",
            "[0, 2, 4, 6, 8, 10, 12, 14, 16, 18, 20]\n",
            "C3 = {x | -20<=x<=40 e x é ímpar}\n",
            "[-19, -17, -15, -13, -11, -9, -7, -5, -3, -1, 1, 3, 5, 7, 9, 11, 13, 15, 17, 19, 21, 23, 25, 27, 29, 31, 33, 35, 37]\n"
          ]
        }
      ]
    },
    {
      "cell_type": "code",
      "source": [
        "numeros = [(p1, p2)\n",
        "for p1 in range(7)\n",
        "for p2 in range(7)]\n",
        "\n",
        "print(f'Pares criados: {numeros}', sep=' ')\n",
        "\n",
        "#usamos o conceito de list comprehesion para criar uma lista de pares dos numeros de 0 a 6"
      ],
      "metadata": {
        "colab": {
          "base_uri": "https://localhost:8080/"
        },
        "id": "xpEqRopI8ucY",
        "outputId": "0b9511ee-18c7-4b41-e719-733e84a4e646"
      },
      "execution_count": null,
      "outputs": [
        {
          "output_type": "stream",
          "name": "stdout",
          "text": [
            "Pares criados: [(0, 0), (0, 1), (0, 2), (0, 3), (0, 4), (0, 5), (0, 6), (1, 0), (1, 1), (1, 2), (1, 3), (1, 4), (1, 5), (1, 6), (2, 0), (2, 1), (2, 2), (2, 3), (2, 4), (2, 5), (2, 6), (3, 0), (3, 1), (3, 2), (3, 3), (3, 4), (3, 5), (3, 6), (4, 0), (4, 1), (4, 2), (4, 3), (4, 4), (4, 5), (4, 6), (5, 0), (5, 1), (5, 2), (5, 3), (5, 4), (5, 5), (5, 6), (6, 0), (6, 1), (6, 2), (6, 3), (6, 4), (6, 5), (6, 6)]\n"
          ]
        }
      ]
    },
    {
      "cell_type": "code",
      "source": [
        "lista = [(a,'b') for a in range(3) for b in range(3)]\n",
        "print(lista)"
      ],
      "metadata": {
        "colab": {
          "base_uri": "https://localhost:8080/"
        },
        "id": "Iv33PoHI9M97",
        "outputId": "45779bbe-ae53-45f2-b16a-30425f6280cd"
      },
      "execution_count": null,
      "outputs": [
        {
          "output_type": "stream",
          "name": "stdout",
          "text": [
            "[(0, 'b'), (0, 'b'), (0, 'b'), (1, 'b'), (1, 'b'), (1, 'b'), (2, 'b'), (2, 'b'), (2, 'b')]\n"
          ]
        }
      ]
    },
    {
      "cell_type": "markdown",
      "source": [
        "##CONVERSÃO DE TIPOS\n"
      ],
      "metadata": {
        "id": "4UNB-t5D9tdw"
      }
    },
    {
      "cell_type": "markdown",
      "source": [
        "A conversão de tipos de dados ou typecast é um recuso feito para formatar o tipo de dado para aquele que necessitamos, por exemplo.\n",
        "\n",
        "Precisamos de uma entrada de numeros do usuario, porém com o input ela vira em formato de string, vamos ter que converter para numero inteiro com a função int().\n",
        "\n",
        "temos as seguintes funções de conversão:\n",
        "\n",
        "```\n",
        "int() - para converter para numero inteiro\n",
        "float() - para numero de decimal\n",
        "complex() - converte para um numero complexo\n",
        "\n",
        "str() - para converter para string\n",
        "list() - converte algo para o formato de lista\n",
        "set() - para converter em conjunto\n",
        "\n",
        "bool()- como neste somente existem true e false existem algumas regras:\n",
        "\n",
        "FALSE: qualquer tipo de lista, tuplas, coleção, string vazia ou o numero 0. e None também\n",
        "\n",
        "TRUE: qualquer numero diferente de 0, e listas, tuplas, strings e coleções com qualquer preenchimento.\n",
        "\n",
        "e as conversões seguem regras lógicas, não é possivel converter letras ou simbolos para formatos numericos.\n",
        "\n",
        "```"
      ],
      "metadata": {
        "id": "NhTMbU7H-Csb"
      }
    },
    {
      "cell_type": "code",
      "source": [
        "numero=123\n",
        "print(complex(numero))"
      ],
      "metadata": {
        "colab": {
          "base_uri": "https://localhost:8080/"
        },
        "id": "fTlNxIZ2_ilK",
        "outputId": "40ea33d5-3c8f-454d-e6c7-fe8a23f3a5c5"
      },
      "execution_count": null,
      "outputs": [
        {
          "output_type": "stream",
          "name": "stdout",
          "text": [
            "(123+0j)\n"
          ]
        }
      ]
    },
    {
      "cell_type": "markdown",
      "source": [
        "**SET()**\n",
        "\n"
      ],
      "metadata": {
        "id": "Nb1mMxjL_1b0"
      }
    },
    {
      "cell_type": "markdown",
      "source": [
        "#EXERCICIOS PARTE 1"
      ],
      "metadata": {
        "id": "LRXZ3Tdh99By"
      }
    }
  ]
}